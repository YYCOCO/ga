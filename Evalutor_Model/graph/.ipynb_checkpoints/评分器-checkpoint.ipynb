{
 "cells": [
  {
   "cell_type": "code",
   "execution_count": 1,
   "metadata": {},
   "outputs": [
    {
     "name": "stderr",
     "output_type": "stream",
     "text": [
      "C:\\Users\\zhoudan\\Anacoda\\lib\\site-packages\\h5py\\__init__.py:36: FutureWarning: Conversion of the second argument of issubdtype from `float` to `np.floating` is deprecated. In future, it will be treated as `np.float64 == np.dtype(float).type`.\n",
      "  from ._conv import register_converters as _register_converters\n"
     ]
    }
   ],
   "source": [
    "import numpy as np\n",
    "import os\n",
    "import logging\n",
    "os.environ['CUDA_VISIBLE_DEVICES'] = '1'\n",
    "import tensorflow as tf"
   ]
  },
  {
   "cell_type": "code",
   "execution_count": 2,
   "metadata": {},
   "outputs": [
    {
     "ename": "ModuleNotFoundError",
     "evalue": "No module named 'graph'",
     "output_type": "error",
     "traceback": [
      "\u001b[1;31m---------------------------------------------------------------------------\u001b[0m",
      "\u001b[1;31mModuleNotFoundError\u001b[0m                       Traceback (most recent call last)",
      "\u001b[1;32m<ipython-input-2-34110c52d3fd>\u001b[0m in \u001b[0;36m<module>\u001b[1;34m()\u001b[0m\n\u001b[1;32m----> 1\u001b[1;33m \u001b[1;32mfrom\u001b[0m \u001b[0mBasicEvalutorModel\u001b[0m \u001b[1;32mimport\u001b[0m \u001b[0mBasicRegressionModel\u001b[0m\u001b[1;33m\u001b[0m\u001b[0m\n\u001b[0m",
      "\u001b[1;32mF:\\pycharm\\工作\\GA\\GA_functionZone\\graph\\BasicEvalutorModel.py\u001b[0m in \u001b[0;36m<module>\u001b[1;34m()\u001b[0m\n\u001b[0;32m      1\u001b[0m \u001b[1;32mimport\u001b[0m \u001b[0mtensorflow\u001b[0m \u001b[1;32mas\u001b[0m \u001b[0mtf\u001b[0m\u001b[1;33m\u001b[0m\u001b[0m\n\u001b[1;32m----> 2\u001b[1;33m \u001b[1;32mfrom\u001b[0m \u001b[0mgraph\u001b[0m\u001b[1;33m.\u001b[0m\u001b[0mCNNGlobalLayoutModel\u001b[0m \u001b[1;32mimport\u001b[0m \u001b[0mGlobalVgg16Cnn\u001b[0m\u001b[1;33m\u001b[0m\u001b[0m\n\u001b[0m\u001b[0;32m      3\u001b[0m \u001b[1;32mfrom\u001b[0m \u001b[0mutils\u001b[0m\u001b[1;33m.\u001b[0m\u001b[0mgraph_utils\u001b[0m \u001b[1;32mimport\u001b[0m \u001b[0mtf_mse_loss\u001b[0m\u001b[1;33m,\u001b[0m \u001b[0mtf_mae_loss\u001b[0m\u001b[1;33m,\u001b[0m \u001b[0mtf_huber_loss\u001b[0m\u001b[1;33m,\u001b[0m \u001b[0mGetTokenEmbedding\u001b[0m\u001b[1;33m,\u001b[0m \u001b[0mtf_alpha_beta_weight\u001b[0m\u001b[1;33m,\u001b[0m\u001b[0;31m \u001b[0m\u001b[0;31m\\\u001b[0m\u001b[1;33m\u001b[0m\u001b[0m\n\u001b[0;32m      4\u001b[0m     \u001b[0mFullConnect\u001b[0m\u001b[1;33m,\u001b[0m \u001b[0mVgg16Layer\u001b[0m\u001b[1;33m,\u001b[0m \u001b[0mtf_alpha_beta\u001b[0m\u001b[1;33m,\u001b[0m \u001b[0mBasic2dConv\u001b[0m\u001b[1;33m\u001b[0m\u001b[0m\n\u001b[0;32m      5\u001b[0m \u001b[1;33m\u001b[0m\u001b[0m\n",
      "\u001b[1;31mModuleNotFoundError\u001b[0m: No module named 'graph'"
     ]
    }
   ],
   "source": [
    "from graph.BasicEvalutorModel import BasicRegressionModel"
   ]
  },
  {
   "cell_type": "code",
   "execution_count": null,
   "metadata": {},
   "outputs": [],
   "source": [
    "%run graph/BasicEvalutorModel.py"
   ]
  },
  {
   "cell_type": "code",
   "execution_count": null,
   "metadata": {},
   "outputs": [],
   "source": [
    "image_width = 64\n",
    "image_height = 64\n",
    "furniture_nums = 5000\n",
    "label_size = 16*16*4 + 1\n",
    "furniture_width = 64\n",
    "furniture_height = 64\n",
    "furniture_embedding_size = 8\n",
    "max_length = 8\n",
    "batch_size = 10*5\n",
    "epochs = 2000\n",
    "save_step = 100"
   ]
  },
  {
   "cell_type": "code",
   "execution_count": null,
   "metadata": {},
   "outputs": [],
   "source": [
    "single_cnn_layout_model = BasicRegressionModel(image_width=image_width,\n",
    "                                              image_height=image_height,\n",
    "                                              furniture_nums=furniture_nums,\n",
    "                                              label_size=label_size,\n",
    "                                              furniture_width=furniture_width,\n",
    "                                              furniture_height=furniture_height,\n",
    "                                              furniture_embedding_size=furniture_embedding_size,\n",
    "                                              max_length=max_length)\n",
    "\n",
    "sess = single_cnn_layout_model.create_sess()"
   ]
  },
  {
   "cell_type": "markdown",
   "metadata": {},
   "source": [
    "#### 首先创建CNN层"
   ]
  },
  {
   "cell_type": "code",
   "execution_count": null,
   "metadata": {},
   "outputs": [],
   "source": [
    "single_cnn_layout_model.build_cnn_graph(trainable=False, filter_list=[64, 128, 256, 512, 512], keep_prob=None, normal_model=\"norm\")"
   ]
  },
  {
   "cell_type": "markdown",
   "metadata": {},
   "source": [
    "#### 记录cnn层的所有变量"
   ]
  },
  {
   "cell_type": "code",
   "execution_count": null,
   "metadata": {},
   "outputs": [],
   "source": [
    "cnn_variables = tf.global_variables ()"
   ]
  },
  {
   "cell_type": "markdown",
   "metadata": {},
   "source": [
    "#### 创建回归层"
   ]
  },
  {
   "cell_type": "code",
   "execution_count": null,
   "metadata": {},
   "outputs": [],
   "source": [
    "single_cnn_layout_model.build_regression_graph(trainable=True)"
   ]
  },
  {
   "cell_type": "markdown",
   "metadata": {},
   "source": [
    "#### 初始化变量"
   ]
  },
  {
   "cell_type": "code",
   "execution_count": null,
   "metadata": {},
   "outputs": [],
   "source": [
    "single_cnn_layout_model.initializer(sess=sess)"
   ]
  },
  {
   "cell_type": "markdown",
   "metadata": {},
   "source": [
    "#### 恢复cnn权重"
   ]
  },
  {
   "cell_type": "code",
   "execution_count": null,
   "metadata": {},
   "outputs": [],
   "source": [
    "single_cnn_layout_model.restore(\n",
    "    sess=sess, \n",
    "    model_path=r\"/ai/zhangluoyang/base_line_bed_room_model_enhangce_v1/model-264\",\n",
    "    var_list=cnn_variables)"
   ]
  },
  {
   "cell_type": "markdown",
   "metadata": {},
   "source": [
    "#### 模拟一条数据训练"
   ]
  },
  {
   "cell_type": "code",
   "execution_count": null,
   "metadata": {},
   "outputs": [],
   "source": [
    "def parse_function(example_proto):\n",
    "    \"\"\"\n",
    "    解析 函数\n",
    "    :param h\n",
    "    :param w\n",
    "    return 户型编码 家具编码 学习目标\n",
    "    \"\"\"\n",
    "    features = {\"furniture_zid_image\": tf.FixedLenFeature([], tf.string, default_value=\"\"),\n",
    "                \"furniture_cid_image\": tf.FixedLenFeature([], tf.string, default_value=\"\"),\n",
    "                \"state_zid_image\": tf.FixedLenFeature([], tf.string, default_value=\"\"),\n",
    "                \"state_cid_image\": tf.FixedLenFeature([], tf.string, default_value=\"\"),\n",
    "                \"label\": tf.FixedLenFeature(shape=[], dtype=tf.int64)}\n",
    "    parsed = tf.parse_single_example(example_proto, features)\n",
    "    # 家具图\n",
    "    # 户型图 + 家具图\n",
    "    state_zid_image = tf.decode_raw(parsed[\"state_zid_image\"], tf.int32)\n",
    "    state_zid_image = tf.reshape(state_zid_image, shape=(image_height, image_width))\n",
    "    \n",
    "    state_cid_image = tf.decode_raw(parsed[\"state_cid_image\"], tf.int32)\n",
    "    state_cid_image = tf.reshape(state_cid_image, shape=(image_height, image_width))\n",
    "    \n",
    "    # 角度图\n",
    "    furniture_zid_image = tf.decode_raw(parsed[\"furniture_zid_image\"], tf.int32)\n",
    "    furniture_zid_image = tf.reshape(furniture_zid_image, shape=(furniture_height, furniture_width))\n",
    "    \n",
    "    furniture_cid_image = tf.decode_raw(parsed[\"furniture_cid_image\"], tf.int32)\n",
    "    furniture_cid_image = tf.reshape(furniture_cid_image, shape=(furniture_height, furniture_width))\n",
    "    \n",
    "    # 学习目标\n",
    "    label = tf.cast(parsed[\"label\"], tf.int32)\n",
    "    return label, state_zid_image, furniture_zid_image, state_cid_image, furniture_cid_image"
   ]
  },
  {
   "cell_type": "code",
   "execution_count": null,
   "metadata": {},
   "outputs": [],
   "source": [
    "filenames = [r\"/ai/data/data_64_16/bed_room_no_enhancement.test\"]\n",
    "dataset = tf.data.TFRecordDataset(filenames, num_parallel_reads=1)\n",
    "dataset = dataset.map(parse_function)\n",
    "dataset = dataset.batch(8)\n",
    "dataset = dataset.repeat(1)\n",
    "iterator = dataset.make_initializable_iterator()"
   ]
  },
  {
   "cell_type": "code",
   "execution_count": null,
   "metadata": {},
   "outputs": [],
   "source": [
    "sess.run(iterator.initializer)\n",
    "labels, state_zid_images, furniture_zid_images, state_cid_images, furniture_cid_images = iterator.get_next()"
   ]
  },
  {
   "cell_type": "code",
   "execution_count": null,
   "metadata": {},
   "outputs": [],
   "source": [
    "## 获取一条数据"
   ]
  },
  {
   "cell_type": "code",
   "execution_count": null,
   "metadata": {},
   "outputs": [],
   "source": [
    "room_state_data, room_furniture_data = sess.run([state_zid_images, furniture_zid_images])"
   ]
  },
  {
   "cell_type": "code",
   "execution_count": null,
   "metadata": {},
   "outputs": [],
   "source": [
    "print(\"room_state_data: {0}\".format(np.shape(room_state_data)))\n",
    "print(\"room_furniture_data: {0}\".format(np.shape(room_furniture_data)))"
   ]
  },
  {
   "cell_type": "code",
   "execution_count": null,
   "metadata": {},
   "outputs": [],
   "source": [
    "room_evalue_scores = np.array([1]*len(room_state_data))"
   ]
  },
  {
   "cell_type": "code",
   "execution_count": null,
   "metadata": {},
   "outputs": [],
   "source": [
    "print(\"room_evalue_scores:{0}\".format(np.shape(room_evalue_scores)))"
   ]
  },
  {
   "cell_type": "markdown",
   "metadata": {},
   "source": [
    "#### 训练"
   ]
  },
  {
   "cell_type": "code",
   "execution_count": null,
   "metadata": {},
   "outputs": [],
   "source": [
    "room = single_cnn_layout_model.room\n",
    "furniture = single_cnn_layout_model.furniture"
   ]
  },
  {
   "cell_type": "code",
   "execution_count": null,
   "metadata": {},
   "outputs": [],
   "source": [
    "layout_marks = single_cnn_layout_model.layout_marks"
   ]
  },
  {
   "cell_type": "code",
   "execution_count": null,
   "metadata": {},
   "outputs": [],
   "source": [
    "regression_train_op = single_cnn_layout_model.regression_train_op\n",
    "regression_loss = single_cnn_layout_model.regression_loss\n",
    "regression_output = single_cnn_layout_model.regression_output"
   ]
  },
  {
   "cell_type": "code",
   "execution_count": 3,
   "metadata": {},
   "outputs": [
    {
     "ename": "NameError",
     "evalue": "name 'room' is not defined",
     "output_type": "error",
     "traceback": [
      "\u001b[1;31m---------------------------------------------------------------------------\u001b[0m",
      "\u001b[1;31mNameError\u001b[0m                                 Traceback (most recent call last)",
      "\u001b[1;32m<ipython-input-3-893efa7007c4>\u001b[0m in \u001b[0;36m<module>\u001b[1;34m()\u001b[0m\n\u001b[0;32m      1\u001b[0m \u001b[1;32mfor\u001b[0m \u001b[0mi\u001b[0m \u001b[1;32min\u001b[0m \u001b[0mrange\u001b[0m\u001b[1;33m(\u001b[0m\u001b[1;36m1000\u001b[0m\u001b[1;33m)\u001b[0m\u001b[1;33m:\u001b[0m\u001b[1;33m\u001b[0m\u001b[0m\n\u001b[1;32m----> 2\u001b[1;33m     \u001b[0mfeed_dict\u001b[0m \u001b[1;33m=\u001b[0m \u001b[1;33m{\u001b[0m\u001b[0mroom\u001b[0m\u001b[1;33m:\u001b[0m \u001b[0mroom_state_data\u001b[0m\u001b[1;33m,\u001b[0m \u001b[0mfurniture\u001b[0m\u001b[1;33m:\u001b[0m \u001b[0mroom_furniture_data\u001b[0m\u001b[1;33m,\u001b[0m \u001b[0mlayout_marks\u001b[0m\u001b[1;33m:\u001b[0m \u001b[0mroom_evalue_scores\u001b[0m\u001b[1;33m}\u001b[0m\u001b[1;33m\u001b[0m\u001b[0m\n\u001b[0m\u001b[0;32m      3\u001b[0m     \u001b[0mloss\u001b[0m\u001b[1;33m,\u001b[0m \u001b[0m_\u001b[0m\u001b[1;33m,\u001b[0m \u001b[0mpredict_scores\u001b[0m \u001b[1;33m=\u001b[0m \u001b[0msess\u001b[0m\u001b[1;33m.\u001b[0m\u001b[0mrun\u001b[0m\u001b[1;33m(\u001b[0m\u001b[1;33m[\u001b[0m\u001b[0mregression_loss\u001b[0m\u001b[1;33m,\u001b[0m \u001b[0mregression_train_op\u001b[0m\u001b[1;33m,\u001b[0m \u001b[0mregression_output\u001b[0m\u001b[1;33m]\u001b[0m\u001b[1;33m,\u001b[0m \u001b[0mfeed_dict\u001b[0m \u001b[1;33m=\u001b[0m \u001b[0mfeed_dict\u001b[0m\u001b[1;33m)\u001b[0m\u001b[1;33m\u001b[0m\u001b[0m\n\u001b[0;32m      4\u001b[0m     \u001b[0mprint\u001b[0m\u001b[1;33m(\u001b[0m\u001b[1;34m\"回归损失:{0}, 真实评分:{1}, 预测评分:{2}\"\u001b[0m\u001b[1;33m.\u001b[0m\u001b[0mformat\u001b[0m\u001b[1;33m(\u001b[0m\u001b[0mloss\u001b[0m\u001b[1;33m,\u001b[0m \u001b[0mroom_evalue_scores\u001b[0m\u001b[1;33m[\u001b[0m\u001b[1;33m:\u001b[0m\u001b[1;36m4\u001b[0m\u001b[1;33m]\u001b[0m\u001b[1;33m,\u001b[0m \u001b[0mpredict_scores\u001b[0m\u001b[1;33m[\u001b[0m\u001b[1;33m:\u001b[0m\u001b[1;36m4\u001b[0m\u001b[1;33m]\u001b[0m\u001b[1;33m)\u001b[0m\u001b[1;33m)\u001b[0m\u001b[1;33m\u001b[0m\u001b[0m\n",
      "\u001b[1;31mNameError\u001b[0m: name 'room' is not defined"
     ]
    }
   ],
   "source": [
    "for i in range(1000):\n",
    "    feed_dict = {room: room_state_data, furniture: room_furniture_data, layout_marks: room_evalue_scores}\n",
    "    loss, _, predict_scores = sess.run([regression_loss, regression_train_op, regression_output], feed_dict = feed_dict)\n",
    "    print(\"回归损失:{0}, 真实评分:{1}, 预测评分:{2}\".format(loss, room_evalue_scores[:4], predict_scores[:4]))"
   ]
  },
  {
   "cell_type": "code",
   "execution_count": null,
   "metadata": {},
   "outputs": [],
   "source": []
  }
 ],
 "metadata": {
  "kernelspec": {
   "display_name": "Python 3",
   "language": "python",
   "name": "python3"
  },
  "language_info": {
   "codemirror_mode": {
    "name": "ipython",
    "version": 3
   },
   "file_extension": ".py",
   "mimetype": "text/x-python",
   "name": "python",
   "nbconvert_exporter": "python",
   "pygments_lexer": "ipython3",
   "version": "3.6.5"
  },
  "toc": {
   "base_numbering": 1,
   "nav_menu": {},
   "number_sections": true,
   "sideBar": true,
   "skip_h1_title": false,
   "title_cell": "Table of Contents",
   "title_sidebar": "Contents",
   "toc_cell": false,
   "toc_position": {},
   "toc_section_display": true,
   "toc_window_display": false
  }
 },
 "nbformat": 4,
 "nbformat_minor": 2
}
